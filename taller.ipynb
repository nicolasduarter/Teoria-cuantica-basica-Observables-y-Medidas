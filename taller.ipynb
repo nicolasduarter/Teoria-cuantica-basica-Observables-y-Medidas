{
 "cells": [
  {
   "cell_type": "markdown",
   "metadata": {},
   "source": [
    "Nicolas Duarte\n",
    "\n",
    "# Simule el primer sistema cuántico descrito en la sección 4.1.\n",
    "\n",
    " El sistema consiste en una partícula confinada a un conjunto discreto de posiciones en una línea. El simulador debe permitir especificar el número de posiciones y un vector ket de estado asignando las amplitudes.\n",
    "\n",
    "1. El sistema debe calcular la probabilidad de encontrarlo en una posición en particular.\n",
    "\n",
    "2. El sistema si se le da otro vector Ket debe buscar la probabilidad de transitar del primer vector al segundo."
   ]
  },
  {
   "cell_type": "code",
   "execution_count": 1,
   "metadata": {},
   "outputs": [
    {
     "name": "stdout",
     "output_type": "stream",
     "text": [
      "la probabilidad de encontrarlo en una posicion en particularn en este caso.  0\n",
      "0.4999999999999999\n",
      " la probabilidad de transitar del primer vector al segundo.\n",
      "0.408248290463863\n"
     ]
    }
   ],
   "source": [
    "import numpy as np\n",
    "numeroDePosiciones = 2 \n",
    "vKet = np.array([1,1,0,0,0])\n",
    "vKetNorma = np.linalg.norm(vKet)\n",
    "vKet = vKet / vKetNorma\n",
    "x = 0\n",
    "print(\"la probabilidad de encontrarlo en una posicion en particularn en este caso. \", x)\n",
    "probPos = vKet[0]**2\n",
    "print(probPos)\n",
    "\n",
    "vKet2 = np.array([1,0,1,1,0]) \n",
    "vKet2Norma = np.linalg.norm(vKet2)\n",
    "vKet2 = vKet2 / vKet2Norma\n",
    "probTrans = np.dot(np.conjugate(vKet2.T),vKet)\n",
    "print(\" la probabilidad de transitar del primer vector al segundo.\")\n",
    "print(probTrans)\n",
    "\n",
    "\n"
   ]
  },
  {
   "cell_type": "markdown",
   "metadata": {},
   "source": [
    "# Complete los retos de programación del capítulo 4.\n",
    "1. Amplitud de transición. El sistema puede recibir dos vectores y calcular la probabilidad de transitar de el uno al otro después de hacer la observación\n",
    "\n",
    "2. Ahora con una matriz que describa un observable y un vector ket, el sistema revisa que la matriz sea hermitiana, y si lo es, calcula la media y la varianza del observable en el estado dado.\n",
    "\n",
    "3. El sistema calcula los valores propios del observable y la probabilidad de que el sistema transite a alguno de los vectores propios después de la observación.\n",
    "\n",
    "4. Se considera la dinámica del sistema. Ahora con una serie de matrices Un el sistema calcula el estado final a partir de un estado inicial.\n",
    "\n",
    "(En el otro archivo.py)"
   ]
  },
  {
   "cell_type": "markdown",
   "metadata": {},
   "source": [
    "# Realice los siguientes problemas e incluyalos como ejemplos\n",
    "Modele en su librería los problemas\n",
    "4.3.1\n",
    "4.3.2\n",
    "4.4.1\n",
    "4.4.2\n",
    "Desarrolle e incluya en el Github una discusión de los ejercicios 4.5.2 y 4.5.3"
   ]
  },
  {
   "cell_type": "code",
   "execution_count": 5,
   "metadata": {},
   "outputs": [
    {
     "name": "stdout",
     "output_type": "stream",
     "text": [
      "1\n",
      "probabilidad de transicion del vKet al vector e1: \n",
      "estados\n",
      "[[ 0.70710678 -0.70710678]\n",
      " [ 0.70710678  0.70710678]]\n",
      "2\n",
      "probabilidades del vKet a e1\n",
      "0.4999999999999999\n",
      "probabilidades del vKet a e2\n",
      "0.4999999999999999\n",
      "valor medio\n",
      "[ 1. -1.] [np.float64(0.4999999999999999), np.float64(0.4999999999999999)]\n",
      "0.0\n",
      "media con libreria\n",
      "0.0\n",
      "3\n",
      "Si es unataria\n",
      "4\n",
      "El estado despues de tres pasos: [ 0.        +0.j         -0.70710678+0.70710678j  0.        +0.j\n",
      "  0.        +0.j        ]\n"
     ]
    }
   ],
   "source": [
    "import numpy as np\n",
    "import libreria as l\n",
    "print(\"1\")\n",
    "print(\"probabilidad de transicion del vKet al vector e1: \")\n",
    "vKet =[1,0]\n",
    "matriz = [[0,1],[1,0]]\n",
    "prob, valPropios,vPropios = l.TransitoVectoresPropios(matriz,vKet)\n",
    "print(\"estados\")\n",
    "print(vPropios)\n",
    "\n",
    "print(\"2\")\n",
    "print(\"probabilidades del vKet a e1\")\n",
    "print(prob[0])\n",
    "print(\"probabilidades del vKet a e2\")\n",
    "print(prob[1])\n",
    "print(\"valor medio\")\n",
    "print(valPropios,prob)\n",
    "media = prob[0]*int(np.int32(valPropios[0])) \n",
    "media += prob[1]*int(np.int32(valPropios[1])) \n",
    "print(media)\n",
    "print(\"media con libreria\")\n",
    "print(l.media(matriz,vKet)[0][0])\n",
    "\n",
    "print(\"3\")\n",
    "x1 = [[0,1],[1,0]]\n",
    "a = 2**(1/2)/2\n",
    "x2 = [[a,a],[a,-a]]\n",
    "x3 = np.dot(x1,x2)\n",
    "matrizI = np.eye(int(2))\n",
    "x3Unitary = np.dot(np.conjugate(x3).T,x3)\n",
    "isUnitary = np.allclose(x3Unitary,matrizI)\n",
    "if isUnitary:\n",
    "    print(\"Si es unataria\")\n",
    "\n",
    "print(\"4\")\n",
    "b = 1/(2**(1/2))\n",
    "estado =np.array(np.transpose([1,0,0,0]))\n",
    "matriz = np.array([[0,b,b,0],[(1j/(2**(1/2))),0,0,b],[b,0,0,1j/(2**(1/2))],[0,b,-b,0]])\n",
    "for rep in range (3):\n",
    "    estado = np.dot(matriz,estado)\n",
    "print(\"El estado despues de tres pasos:\", estado)\n",
    "\n",
    "\n"
   ]
  }
 ],
 "metadata": {
  "kernelspec": {
   "display_name": "Python 3",
   "language": "python",
   "name": "python3"
  },
  "language_info": {
   "codemirror_mode": {
    "name": "ipython",
    "version": 3
   },
   "file_extension": ".py",
   "mimetype": "text/x-python",
   "name": "python",
   "nbconvert_exporter": "python",
   "pygments_lexer": "ipython3",
   "version": "3.11.9"
  }
 },
 "nbformat": 4,
 "nbformat_minor": 2
}
